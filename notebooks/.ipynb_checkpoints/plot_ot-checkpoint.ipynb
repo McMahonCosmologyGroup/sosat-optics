{
 "cells": [
  {
   "cell_type": "code",
   "execution_count": 2,
   "metadata": {
    "jupyter": {
     "source_hidden": true
    },
    "tags": []
   },
   "outputs": [],
   "source": [
    "import numpy as np\n",
    "import matplotlib\n",
    "import matplotlib.font_manager as font_manager\n",
    "# %load_ext blackcellmagic\n",
    "import matplotlib.pyplot as plt\n",
    "# import plotly\n",
    "# import plotly.graph_objects as go\n",
    "# plotly.offline.init_notebook_mode()\n",
    "\n",
    "%matplotlib inline\n",
    "font_manager.fontManager.addfont(\n",
    "    \"/home/chesmore/.local/share/fonts/HelveticaNeueLight.ttf\"\n",
    ")\n",
    "matplotlib.rcParams[\"font.family\"] = \"Helvetica Neue\"\n",
    "matplotlib.rcParams[\"font.size\"] = 16\n",
    "from matplotlib_scalebar.scalebar import ScaleBar\n",
    "matplotlib.rcParams.update({\"axes.grid\" : False, \"grid.color\": \"grey\", \"grid.alpha\": .2, 'xtick.direction':'in','ytick.direction':'in'})\n",
    "%config InlineBackend.figure_format = 'retina'\n",
    "import imp\n",
    "ot_geo = imp.load_source('ot_geo', '/home/chesmore/Desktop/Code/SO SAT OT/sosat-optics/sosat_optics/ot_geo.py')\n",
    "ray_trace = imp.load_source('ray_trace', '/home/chesmore/Desktop/Code/SO SAT OT/sosat-optics/sosat_optics/ray_trace.py')\n",
    "\n",
    "# %load_ext blackcellmagic\n",
    "\n",
    "tele_geo = ot_geo.LatGeo()\n",
    "# tele_geo.y_ap = 950 # Source distance from focal plane [mm]\n",
    "tele_geo.n_scan = 100"
   ]
  },
  {
   "cell_type": "code",
   "execution_count": null,
   "metadata": {
    "jupyter": {
     "source_hidden": true
    },
    "tags": []
   },
   "outputs": [
    {
     "name": "stderr",
     "output_type": "stream",
     "text": [
      "/home/chesmore/Desktop/Code/SO SAT OT/sosat-optics/sosat_optics/ot_geo.py:69: RuntimeWarning: invalid value encountered in sqrt\n",
      "  amp = (c * r ** 2) / (1 + np.sqrt(1 - ((1 + k) * c ** 2 * r ** 2)))\n",
      "/home/chesmore/Desktop/Code/SO SAT OT/sosat-optics/sosat_optics/ot_geo.py:69: RuntimeWarning: invalid value encountered in sqrt\n",
      "  amp = (c * r ** 2) / (1 + np.sqrt(1 - ((1 + k) * c ** 2 * r ** 2)))\n"
     ]
    }
   ],
   "source": [
    "tele_geo.y_source = ot_geo.y_lyot + 100\n",
    "output_rx = ray_trace.rx_to_lyot([0,0,0],tele_geo,1,'b')\n",
    "\n",
    "plt.title(\"SAT Optics Tube\")\n",
    "plt.ylabel(\"[mm]\")\n",
    "plt.xlabel(\"[mm]\")\n",
    "plt.axis(\"equal\")\n",
    "# plt.xlim(150,260)\n",
    "# plt.ylim(-100,100)\n",
    "plt.show()"
   ]
  },
  {
   "cell_type": "code",
   "execution_count": null,
   "metadata": {},
   "outputs": [],
   "source": [
    "cc = np.where(output_rx[0]**2 + output_rx[2]**2 < (510/2)**2)"
   ]
  },
  {
   "cell_type": "code",
   "execution_count": null,
   "metadata": {
    "tags": []
   },
   "outputs": [],
   "source": [
    "plt.figure(figsize = (12,4))\n",
    "plt.suptitle(\"Fields at Window from Receiver\",y=1.05)\n",
    "plt.subplot(121)\n",
    "plt.scatter(output_rx[0][cc],output_rx[2][cc],c=np.mod(tele_geo.k*(output_rx[3][cc]-np.mean(output_rx[3][cc]))/1e3,2*np.pi),s = 15)\n",
    "plt.colorbar(label='rad.')\n",
    "plt.axis(\"equal\")\n",
    "plt.title(\"Phase\")\n",
    "plt.xlabel(\"[mm]\")\n",
    "plt.ylabel(\"[mm]\")\n",
    "plt.subplot(122)\n",
    "plt.scatter(output_rx[0][cc],output_rx[2][cc],c=20*np.log10(output_rx[4][cc]/np.max(output_rx[4][cc])),s = 15)\n",
    "plt.colorbar(label = 'dB')\n",
    "plt.axis(\"equal\")\n",
    "plt.title(\"Amplitude [dB]\")\n",
    "plt.xlabel(\"[mm]\")\n",
    "plt.ylabel(\"[mm]\")\n",
    "plt.show()"
   ]
  },
  {
   "cell_type": "code",
   "execution_count": null,
   "metadata": {
    "tags": []
   },
   "outputs": [],
   "source": [
    "len_sim = int(np.sqrt(len(output_rx[0])))\n",
    "x_sim = np.reshape(output_rx[0],(len_sim,len_sim))-np.mean(output_rx[0]) # [mm] \n",
    "y_sim = np.reshape(output_rx[2],(len_sim,len_sim))-np.mean(output_rx[2]) # [mm] \n",
    "a_sim = np.reshape(output_rx[4],(len_sim,len_sim))\n",
    "p_sim = np.reshape(output_rx[3],(len_sim,len_sim))\n",
    "p_sim = np.mod(tele_geo.k*(p_sim-np.mean(p_sim))/1e3,2*np.pi)"
   ]
  },
  {
   "cell_type": "code",
   "execution_count": null,
   "metadata": {
    "tags": []
   },
   "outputs": [],
   "source": [
    "plt.figure()\n",
    "plt.xlabel(\"\")\n",
    "plt.pcolormesh(x_sim/1e1,y_sim/1e1,10*np.log10(abs(a_sim)))\n",
    "plt.axis(\"equal\")\n",
    "plt.show()"
   ]
  },
  {
   "cell_type": "code",
   "execution_count": null,
   "metadata": {
    "tags": []
   },
   "outputs": [],
   "source": [
    "def beam_convolve(x,y,beam,apert1,apert2):\n",
    "\n",
    "#     Define g\n",
    "    if apert1<apert2:\n",
    "        disc = np.cos(np.pi*y/apert2)\n",
    "        disc = np.where(abs(y)<=apert2/2,disc,0)\n",
    "        disc = np.where(abs(x)<=apert1/2,disc,0)\n",
    "\n",
    "    else:\n",
    "        disc = np.cos(np.pi*x/apert1)\n",
    "        disc = np.where(abs(x)<=apert1/2,disc,0)\n",
    "        disc = np.where(abs(y)<=apert2/2,disc,0)\n",
    "    \n",
    "    tmp = np.fft.fftshift(disc)\n",
    "    tmp = np.fft.fft2(tmp)\n",
    "    # Matrix G\n",
    "    disc_fft = np.fft.fftshift(tmp)\n",
    "    \n",
    "    tmp = np.fft.fftshift(beam)\n",
    "    tmp = np.fft.fft2(tmp)\n",
    "    beam_fft = np.fft.fftshift(tmp)\n",
    "    \n",
    "    beam_conv = beam_fft*disc_fft\n",
    "    \n",
    "    tmp = np.fft.ifftshift(beam_conv)\n",
    "    tmp = np.fft.ifft2(tmp)\n",
    "    beam_final = np.fft.ifftshift(tmp)\n",
    "    \n",
    "    return x,y,beam_final"
   ]
  },
  {
   "cell_type": "code",
   "execution_count": null,
   "metadata": {
    "tags": []
   },
   "outputs": [],
   "source": [
    "beam_sim = a_sim * np.exp(np.complex(0,1)*p_sim)\n",
    "apert1 = 10\n",
    "apert2 = 10\n",
    "    \n",
    "x,y,beam_final = beam_convolve(np.real(x_sim),np.real(y_sim),beam_sim,apert1,apert2)"
   ]
  },
  {
   "cell_type": "code",
   "execution_count": null,
   "metadata": {
    "tags": []
   },
   "outputs": [],
   "source": [
    "plt.pcolormesh(x,y,20*np.log10(abs(beam_final)/np.max(abs(beam_final))),vmin = -60)\n",
    "plt.axis(\"equal\")\n",
    "plt.show()"
   ]
  },
  {
   "cell_type": "code",
   "execution_count": null,
   "metadata": {},
   "outputs": [],
   "source": []
  }
 ],
 "metadata": {
  "kernelspec": {
   "display_name": "Python 3",
   "language": "python",
   "name": "python3"
  },
  "language_info": {
   "codemirror_mode": {
    "name": "ipython",
    "version": 3
   },
   "file_extension": ".py",
   "mimetype": "text/x-python",
   "name": "python",
   "nbconvert_exporter": "python",
   "pygments_lexer": "ipython3",
   "version": "3.8.5"
  }
 },
 "nbformat": 4,
 "nbformat_minor": 4
}
