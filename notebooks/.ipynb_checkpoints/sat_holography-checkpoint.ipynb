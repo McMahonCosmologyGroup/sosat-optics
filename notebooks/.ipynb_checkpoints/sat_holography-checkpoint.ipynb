{
 "cells": [
  {
   "cell_type": "markdown",
   "metadata": {},
   "source": [
    "# SAT Optics Simulation: Near-field\n",
    "\n",
    "This notebook shows the optical path of the Simons Observatory SAT optics tube.  The ray-trace produces the electric field at the window (opening) of the SAT, which is in the near-field.  This field is convolved with a square to reproduce holography measurements, since the holography source emits its signal out of a rectangular feedhorn. \n",
    "\n",
    "Grace E. Chesmore\n",
    "March 2022\n",
    "\n",
    "### Optical Path\n",
    "We first ray-trace from the focal plane through the 3 lenses, and out to 300mm in front of the window.  The $\\verb|tele_geo.y_source|$ variable changes the plane of the rays in front of the window, since this is where the holography source will eventually scan. \n",
    "\n",
    "The $\\verb|ray_trace.rx_to_lyot|$ outputs the amplitude and pathlength $d_{\\text{PL}}$ of the rays in front of the window.  The pathlength information can be converted to phase $\\phi$ due to the relationship:\n",
    "$$ \\phi = d_{\\text{PL}} \\frac{\\lambda}{2\\pi}$$"
   ]
  },
  {
   "cell_type": "code",
   "execution_count": null,
   "metadata": {
    "jupyter": {
     "source_hidden": true
    },
    "tags": []
   },
   "outputs": [
    {
     "name": "stderr",
     "output_type": "stream",
     "text": [
      "/home/chesmore/Desktop/Code/SO SAT OT/sosat-optics/sosat_optics/ot_geo.py:69: RuntimeWarning: invalid value encountered in sqrt\n",
      "  amp = (c * r ** 2) / (1 + np.sqrt(1 - ((1 + k) * c ** 2 * r ** 2)))\n",
      "/home/chesmore/Desktop/Code/SO SAT OT/sosat-optics/sosat_optics/ot_geo.py:114: RuntimeWarning: invalid value encountered in sqrt\n",
      "  coeff_2 = (c * 2) / (1 + np.sqrt(1 - ((1 + k) * c ** 2 * r ** 2)))\n",
      "/home/chesmore/Desktop/Code/SO SAT OT/sosat-optics/sosat_optics/ot_geo.py:116: RuntimeWarning: invalid value encountered in sqrt\n",
      "  np.sqrt(1 - ((1 + k) * c ** 2 * r ** 2))\n",
      "/home/chesmore/Desktop/Code/SO SAT OT/sosat-optics/sosat_optics/ot_geo.py:117: RuntimeWarning: invalid value encountered in sqrt\n",
      "  * (1 + np.sqrt(1 - ((1 + k) * c ** 2 * r ** 2))) ** 2\n",
      "/home/chesmore/Desktop/Code/SO SAT OT/sosat-optics/sosat_optics/ray_trace.py:12: RuntimeWarning: invalid value encountered in sqrt\n",
      "  s2 = (n1 / n2) * np.cross(N_surf, (np.cross(-N_surf, s1))) - N_surf * np.sqrt(\n"
     ]
    }
   ],
   "source": [
    "import numpy as np\n",
    "import matplotlib\n",
    "import matplotlib.font_manager as font_manager\n",
    "import matplotlib.pyplot as plt\n",
    "%matplotlib inline\n",
    "# %load_ext blackcellmagic\n",
    "\n",
    "font_manager.fontManager.addfont(\n",
    "    \"/home/chesmore/.local/share/fonts/HelveticaNeueLight.ttf\"\n",
    ")\n",
    "matplotlib.rcParams[\"font.family\"] = \"Helvetica Neue\"\n",
    "matplotlib.rcParams[\"font.size\"] = 16\n",
    "matplotlib.rcParams.update({\"axes.grid\" : False, \"grid.color\": \"grey\", \"grid.alpha\": .2, 'xtick.direction':'in','ytick.direction':'in'})\n",
    "%config InlineBackend.figure_format = 'retina'\n",
    "\n",
    "import imp\n",
    "ot_geo = imp.load_source('ot_geo', '/home/chesmore/Desktop/Code/SO SAT OT/sosat-optics/sosat_optics/ot_geo.py')\n",
    "ray_trace = imp.load_source('ray_trace', '/home/chesmore/Desktop/Code/SO SAT OT/sosat-optics/sosat_optics/ray_trace.py')\n",
    "opt_analyze = imp.load_source('opt_analyze', '/home/chesmore/Desktop/Code/SO SAT OT/sosat-optics/sosat_optics/opt_analyze.py')\n",
    "\n",
    "tele_geo = ot_geo.LatGeo()\n",
    "tele_geo.n_scan = 100\n",
    "tele_geo.y_source = ot_geo.y_lyot + 300\n",
    "\n",
    "plt.figure(figsize = (6,4))\n",
    "output_rx = ray_trace.rx_to_lyot([0, 0, 0], tele_geo, 1, \"b\")\n",
    "plt.vlines(x=ot_geo.y_lyot, ymin=-210, ymax=210, color=\"darkorange\", linestyle=\"-\")\n",
    "plt.title(\"SAT Optics Tube\")\n",
    "plt.ylabel(\"[mm]\")\n",
    "plt.xlabel(\"[mm]\")\n",
    "plt.axis(\"equal\")\n",
    "plt.show()\n",
    "\n",
    "cc = np.where(output_rx[0] ** 2 + output_rx[2] ** 2 < (600 / 2) ** 2)\n",
    "\n",
    "output_rx[3] = np.where(np.isnan(output_rx[3])==False,output_rx[3],0)\n",
    "\n",
    "plt.figure(figsize=(12, 4))\n",
    "plt.suptitle(\"Fields at Window from Receiver\", y=1.05)\n",
    "plt.subplot(122)\n",
    "plt.scatter(\n",
    "    output_rx[0][cc],\n",
    "    output_rx[2][cc],\n",
    "    c=np.mod(\n",
    "        tele_geo.k * (output_rx[3][cc] - np.mean(output_rx[3][cc])) / 1e3, 2 * np.pi\n",
    "    ),\n",
    "    s=15,\n",
    ")\n",
    "plt.colorbar(label=\"rad.\")\n",
    "plt.axis(\"equal\")\n",
    "plt.title(\"Phase\")\n",
    "plt.xlabel(\"[mm]\")\n",
    "plt.ylabel(\"[mm]\")\n",
    "plt.subplot(121)\n",
    "plt.scatter(\n",
    "    output_rx[0][cc],\n",
    "    output_rx[2][cc],\n",
    "    c=20 * np.log10(output_rx[4][cc] / np.max(output_rx[4][cc])),\n",
    "    s=15,\n",
    ")\n",
    "plt.colorbar(label=\"dB\")\n",
    "plt.axis(\"equal\")\n",
    "plt.title(\"Amplitude [dB]\")\n",
    "plt.xlabel(\"[mm]\")\n",
    "plt.ylabel(\"[mm]\")\n",
    "plt.show()"
   ]
  },
  {
   "cell_type": "markdown",
   "metadata": {},
   "source": [
    "## Holography Measurement\n",
    "\n",
    "We will eventually measure these fields with holography.  A rectangular feedhorn emits the signal into the optics tube, convolving the measured beam, and therefor we need to account for this convolution in our simulation. \n",
    "\n",
    "A convolution of the fields shows the amplitude of the beam fall off quickly at ~10cm radius from center.  The phase also remains relatively constant in front of the window. "
   ]
  },
  {
   "cell_type": "code",
   "execution_count": null,
   "metadata": {
    "jupyter": {
     "source_hidden": true
    },
    "tags": []
   },
   "outputs": [],
   "source": [
    "# Regrid the ray-trace results into a 2D grid for easier plotting purposes\n",
    "len_sim = int(np.sqrt(len(output_rx[0])))\n",
    "x_sim = np.reshape(output_rx[0], (len_sim, len_sim))  # [mm]\n",
    "y_sim = np.reshape(output_rx[2], (len_sim, len_sim))  # [mm]\n",
    "\n",
    "x_sim_new = np.linspace(np.min(x_sim[np.where(np.isnan(x_sim)==False)]),np.max(x_sim[np.where(np.isnan(x_sim)==False)]),len_sim)\n",
    "y_sim_new = np.linspace(np.min(y_sim[np.where(np.isnan(y_sim)==False)]),np.max(y_sim[np.where(np.isnan(y_sim)==False)]),len_sim)\n",
    "x_sim,y_sim = np.meshgrid(x_sim_new,y_sim_new)\n",
    "\n",
    "a_sim = np.reshape(output_rx[4], (len_sim, len_sim))\n",
    "p_sim = np.reshape(output_rx[3], (len_sim, len_sim))\n",
    "p_sim = np.mod(tele_geo.k * (p_sim - np.mean(p_sim)) / 1e3, 2 * np.pi)\n",
    "\n",
    "# Define the complex beam from ray-trace outputs\n",
    "noise = 1e-5 # signal-to-noise of holography setup\n",
    "a_sim /= np.max(abs(a_sim))\n",
    "\n",
    "beam_sim = a_sim * np.exp(np.complex(0, 1) * p_sim)\n",
    "\n",
    "# Define the dimmensions of the waveguide\n",
    "apert1 = 150 # [mm]\n",
    "apert2 = 190 # [mm]\n",
    "\n",
    "# Convolve beam\n",
    "x, y, beam_final = opt_analyze.beam_convolve(\n",
    "    np.real(x_sim), np.real(y_sim), beam_sim, apert1, apert2\n",
    ")\n",
    "\n",
    "plt.figure(figsize = (15,5))\n",
    "plt.subplot(121)\n",
    "plt.pcolormesh(x/1e1, y/1e1, 20 * np.log10(abs(beam_final) / np.max(abs(beam_final))), vmin=-50,shading = 'auto')\n",
    "plt.colorbar(label = 'dB')\n",
    "plt.axis(\"equal\")\n",
    "plt.title(\"Amplitude [dB]\")\n",
    "plt.xlabel(\"[cm]\")\n",
    "plt.ylabel(\"[cm]\")\n",
    "\n",
    "plt.subplot(122)\n",
    "plt.pcolormesh(x/1e1, y/1e1, np.arctan2(np.imag(beam_final),np.real(beam_final)),shading = 'auto')\n",
    "plt.colorbar(label = 'rad.')\n",
    "plt.axis(\"equal\")\n",
    "plt.title(\"Phase\")\n",
    "plt.xlabel(\"[cm]\")\n",
    "plt.ylabel(\"[cm]\")\n",
    "plt.show()"
   ]
  },
  {
   "cell_type": "code",
   "execution_count": null,
   "metadata": {},
   "outputs": [],
   "source": []
  }
 ],
 "metadata": {
  "kernelspec": {
   "display_name": "Python 3",
   "language": "python",
   "name": "python3"
  },
  "language_info": {
   "codemirror_mode": {
    "name": "ipython",
    "version": 3
   },
   "file_extension": ".py",
   "mimetype": "text/x-python",
   "name": "python",
   "nbconvert_exporter": "python",
   "pygments_lexer": "ipython3",
   "version": "3.8.5"
  }
 },
 "nbformat": 4,
 "nbformat_minor": 4
}
