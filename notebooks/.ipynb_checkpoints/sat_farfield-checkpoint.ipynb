{
 "cells": [
  {
   "cell_type": "markdown",
   "metadata": {},
   "source": [
    "# SAT Optics Simulation: Far-Field\n",
    "\n",
    "This notebook models the far-field beam of the Small Aperture Telescope.  We use the near-field beam simulated in the $\\verb|sat_holography|$ notebook and the fourier relationship between near- and far-fields to propagate this beam into the far-field. \n",
    "\n",
    "Grace E. Chesmore\n",
    "March 2022\n",
    "\n",
    "### Read in the near-field beam\n"
   ]
  },
  {
   "cell_type": "code",
   "execution_count": null,
   "metadata": {
    "jupyter": {
     "source_hidden": true
    },
    "tags": []
   },
   "outputs": [],
   "source": [
    "import numpy as np\n",
    "import matplotlib\n",
    "import matplotlib.font_manager as font_manager\n",
    "import matplotlib.pyplot as plt\n",
    "%matplotlib inline\n",
    "from scipy import interpolate\n",
    "\n",
    "# import sosat_optics\n",
    "# from sosat_optics import ot_geo, ray_trace, opt_analyze\n",
    "\n",
    "# %load_ext blackcellmagic\n",
    "\n",
    "# Figure styling\n",
    "font_manager.fontManager.addfont(\n",
    "    \"/home/chesmore/.local/share/fonts/HelveticaNeueLight.ttf\"\n",
    ")\n",
    "matplotlib.rcParams[\"font.family\"] = \"Helvetica Neue\"\n",
    "matplotlib.rcParams[\"font.size\"] = 16\n",
    "matplotlib.rcParams.update({\"axes.grid\" : False, \"grid.color\": \"grey\", \"grid.alpha\": .2, 'xtick.direction':'in','ytick.direction':'in'})\n",
    "%config InlineBackend.figure_format = 'retina'\n",
    "\n",
    "import imp\n",
    "ot_geo = imp.load_source('ot_geo', '/home/chesmore/Desktop/Code/sosat-optics/sosat_optics/ot_geo.py')\n",
    "ray_trace = imp.load_source('ray_trace', '/home/chesmore/Desktop/Code/sosat-optics/sosat_optics/ray_trace.py')\n",
    "opt_analyze = imp.load_source('opt_analyze', '/home/chesmore/Desktop/Code/sosat-optics/sosat_optics/opt_analyze.py')\n",
    "\n",
    "# Load in telescope geometry\n",
    "tele_geo = ot_geo.SatGeo()\n",
    "tele_geo.n_scan = 200 # sample number in 1D of 2D grid\n",
    "tele_geo.y_source = ot_geo.y_lyot + 40 # distance of holography source from SAT focal plane.\n",
    "tele_geo.lambda_ = .002 # wavelength of source, here we choose 150GHz.\n",
    "tele_geo.k = 2 * np.pi / tele_geo.lambda_ # update kappa\n",
    "\n",
    "rx = [0, 0, 0] # receiver feed position in focal plane\n",
    "x_sim,y_sim,a_sim,p_sim = ray_trace.rx_to_lyot(rx, tele_geo, 0, \"b\")\n",
    "# Convert pathlength to phase\n",
    "p_sim = np.mod(tele_geo.k * (p_sim - np.mean(p_sim)) / 1e3, 2 * np.pi)"
   ]
  },
  {
   "cell_type": "code",
   "execution_count": null,
   "metadata": {
    "jupyter": {
     "source_hidden": true
    },
    "tags": []
   },
   "outputs": [],
   "source": [
    "# Define the complex beam from ray-trace outputs\n",
    "noise = 1e-6 # signal-to-noise of holography setup\n",
    "a_sim /= np.max(abs(a_sim))\n",
    "a_sim = a_sim + noise\n",
    "beam_sim = (a_sim/np.max(a_sim)) * np.exp(complex(0, 1) * p_sim)\n",
    "\n",
    "# Define the dimmensions of the waveguide\n",
    "apert1 = 1 # [cm]\n",
    "apert2 = 1 # [cm]\n",
    "\n",
    "# Convolve beam\n",
    "x, y, beam_conv = opt_analyze.beam_convolve(\n",
    "    np.real(x_sim)/1e1, np.real(y_sim)/1e1, beam_sim, apert1, apert2,0\n",
    ")"
   ]
  },
  {
   "cell_type": "markdown",
   "metadata": {},
   "source": [
    "## Zero padding "
   ]
  },
  {
   "cell_type": "code",
   "execution_count": null,
   "metadata": {
    "jupyter": {
     "source_hidden": true
    },
    "tags": []
   },
   "outputs": [],
   "source": [
    "# Zero padding: to increase the resolution of our far-field\n",
    "# we zero-pad the aperture fields before propagating.  Set\n",
    "# the number of pixels to pad to the array.\n",
    "pix_num = 500\n",
    "x_new,y_new,beam_final = opt_analyze.zero_pad(x,y,beam_conv,pix_num)\n",
    "phase = np.arctan2(np.imag(beam_final),np.real(beam_final))\n",
    "beam_fft,phase_fft = opt_analyze.a2b(beam_final, phase*180/np.pi)\n",
    "\n",
    "x_ang,y_ang = opt_analyze.coords_spat_to_ang(x_new/1e2, y_new/1e2,opt_analyze.m_to_ghz(tele_geo.lambda_))\n",
    "\n",
    "plt.figure(figsize = (6,5))\n",
    "plt.title(\"SAT Far-field 150GHz\")\n",
    "plt.pcolormesh(x_ang*180*60/np.pi,y_ang*180*60/np.pi,20*np.log10(abs(beam_fft)/np.max(abs(beam_fft))),vmin = -60,shading = 'auto')\n",
    "plt.xlabel(\"[arcmin]\")\n",
    "plt.ylabel(\"[arcmin]\")\n",
    "plt.colorbar(label = \"dB\")\n",
    "plt.axis(\"equal\")\n",
    "plt.xlim(-80,80)\n",
    "plt.ylim(-80,80)\n",
    "plt.show()"
   ]
  },
  {
   "cell_type": "code",
   "execution_count": null,
   "metadata": {
    "jupyter": {
     "source_hidden": true
    },
    "tags": []
   },
   "outputs": [],
   "source": [
    "a = abs(beam_fft)**2 /np.max(abs(beam_fft)**2)\n",
    "x_out = y_ang\n",
    "y_out = x_ang\n",
    "\n",
    "indx = np.where(abs(a)==np.max(abs(a)))\n",
    "x = y_out[indx[0][0],:]*60*180/np.pi\n",
    "y = ((abs(a)[indx[0][0],:]/np.max(abs(a))))\n",
    "v1 = (x[np.where((y>.5))][0])\n",
    "v2 = (x[np.where((y>.5))][-1])\n",
    "\n",
    "fwhm1 = (abs(v1-v2))\n",
    "\n",
    "indx = np.where(abs(a)==np.max(abs(a)))\n",
    "x = x_out[:,indx[1][0]]*60*180/np.pi\n",
    "y = ((abs(a)[:,indx[1][0]]/np.max(abs(a))))\n",
    "v1 = (x[np.where((y>.5))][0])\n",
    "v2 = (x[np.where((y>.5))][-1])\n",
    "\n",
    "fwhm2 = (abs(v1-v2))\n",
    "\n",
    "print( (fwhm1 + fwhm2) /2)"
   ]
  },
  {
   "cell_type": "code",
   "execution_count": null,
   "metadata": {
    "tags": []
   },
   "outputs": [],
   "source": [
    "D = tele_geo.diam\n",
    "lambda_m = tele_geo.lambda_\n",
    "print(opt_analyze.rad_to_arcmin((1.025*lambda_m /D)))"
   ]
  },
  {
   "cell_type": "code",
   "execution_count": null,
   "metadata": {},
   "outputs": [],
   "source": []
  }
 ],
 "metadata": {
  "kernelspec": {
   "display_name": "Python 3",
   "language": "python",
   "name": "python3"
  },
  "language_info": {
   "codemirror_mode": {
    "name": "ipython",
    "version": 3
   },
   "file_extension": ".py",
   "mimetype": "text/x-python",
   "name": "python",
   "nbconvert_exporter": "python",
   "pygments_lexer": "ipython3",
   "version": "3.8.5"
  }
 },
 "nbformat": 4,
 "nbformat_minor": 4
}
