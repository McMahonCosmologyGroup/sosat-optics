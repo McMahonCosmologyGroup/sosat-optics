{
 "cells": [
  {
   "cell_type": "markdown",
   "metadata": {},
   "source": [
    "# SAT Optics Simulation: Near-field\n",
    "\n",
    "This notebook shows the optical path of the Simons Observatory SAT optics tube.  The ray-trace produces the electric field at the window (opening) of the SAT, which is in the near-field.  This field is convolved with a square to reproduce holography measurements, since the holography source emits its signal out of a rectangular feedhorn. \n",
    "\n",
    "Grace E. Chesmore\n",
    "March 2022\n",
    "\n",
    "### Optical Path\n",
    "We first ray-trace from the focal plane through the 3 lenses, and out to 300mm in front of the window.  The $\\verb|tele_geo.y_source|$ variable changes the plane of the rays in front of the window, since this is where the holography source will eventually scan. \n",
    "\n",
    "The $\\verb|ray_trace.rx_to_lyot|$ outputs the amplitude and pathlength $d_{\\text{PL}}$ of the rays in front of the window.  The pathlength information can be converted to phase $\\phi$ due to the relationship:\n",
    "$$ \\phi = d_{\\text{PL}} \\frac{\\lambda}{2\\pi}$$"
   ]
  },
  {
   "cell_type": "code",
   "execution_count": null,
   "metadata": {
    "jupyter": {
     "source_hidden": true
    },
    "tags": []
   },
   "outputs": [],
   "source": [
    "import numpy as np\n",
    "import matplotlib\n",
    "import matplotlib.font_manager as font_manager\n",
    "import matplotlib.pyplot as plt\n",
    "from scipy import interpolate\n",
    "\n",
    "%matplotlib inline\n",
    "\n",
    "import sosat_optics\n",
    "from sosat_optics import ot_geo, ray_trace, opt_analyze\n",
    "\n",
    "# %load_ext blackcellmagic\n",
    "\n",
    "# Figure styling\n",
    "font_manager.fontManager.addfont(\n",
    "    \"/home/chesmore/.local/share/fonts/HelveticaNeueLight.ttf\"\n",
    ")\n",
    "matplotlib.rcParams[\"font.family\"] = \"Helvetica Neue\"\n",
    "matplotlib.rcParams[\"font.size\"] = 16\n",
    "matplotlib.rcParams.update(\n",
    "    {\n",
    "        \"axes.grid\": False,\n",
    "        \"grid.color\": \"grey\",\n",
    "        \"grid.alpha\": 0.2,\n",
    "        \"xtick.direction\": \"in\",\n",
    "        \"ytick.direction\": \"in\",\n",
    "    }\n",
    ")\n",
    "%config InlineBackend.figure_format = 'retina'\n",
    "red = '#e42536'\n",
    "blue = '#570efc'\n",
    "orange = '#f89c20'\n",
    "\n",
    "# import imp\n",
    "# ot_geo = imp.load_source('ot_geo', '/home/chesmore/Desktop/Code/sosat-optics/sosat_optics/ot_geo.py')\n",
    "# ray_trace = imp.load_source('ray_trace', '/home/chesmore/Desktop/Code/sosat-optics/sosat_optics/ray_trace.py')\n",
    "# opt_analyze = imp.load_source('opt_analyze', '/home/chesmore/Desktop/Code/sosat-optics/sosat_optics/opt_analyze.py')\n",
    "\n",
    "# Load in telescope geometry\n",
    "tele_geo = ot_geo.SatGeo()\n",
    "tele_geo.n_scan = 200  # sample number in 1D of 2D grid\n",
    "tele_geo.y_source = (\n",
    "    ot_geo.y_lyot + 40\n",
    ")  # distance of holography source from SAT focal plane.\n",
    "tele_geo.lambda_ = 0.002  # wavelength of source, here we choose 150GHz.\n",
    "tele_geo.k = 2 * np.pi / tele_geo.lambda_  # update kappa\n",
    "\n",
    "rx = [0, 0, 0]  # receiver feed position in focal plane\n",
    "x_sim, y_sim, a_sim, p_sim = ray_trace.rx_to_lyot(rx, tele_geo, 1, \"b\")\n",
    "# Convert pathlength to phase\n",
    "p_sim = np.mod(tele_geo.k * (p_sim - np.mean(p_sim)) / 1e3 / 2, 2 * np.pi)\n",
    "\n",
    "plt.vlines(x=ot_geo.y_lyot, ymin=-210, ymax=210, color=orange, linestyle=\"-\",linewidth = 3)\n",
    "plt.vlines(x=tele_geo.y_source, ymin=-210, ymax=210, color=blue, linestyle=\"-\",linewidth = 3)\n",
    "plt.vlines(x=0, ymin=-110, ymax=110, color=\"red\", linestyle=\"--\",linewidth = 3)\n",
    "plt.axis('off')\n",
    "plt.axis(\"equal\")\n",
    "\n",
    "plt.annotate(\"Lens 3\",xy = (-50,-310))\n",
    "plt.annotate(\"Lens 2\",xy = (150,-310))\n",
    "plt.annotate(\"Lens 1\",xy = (800,-310))\n",
    "plt.annotate(\"Stop\",xy = (800,260),color = orange)\n",
    "plt.annotate(\"Source Plane\",xy = (1000,260),color = blue)\n",
    "plt.annotate(\"Focal Plane\",xy = (-50,260),color = red)\n",
    "plt.show()"
   ]
  },
  {
   "cell_type": "markdown",
   "metadata": {},
   "source": [
    "## Holography Measurement\n",
    "\n",
    "We will eventually measure these fields with holography.  A rectangular feedhorn emits the signal into the optics tube, convolving the measured beam, and therefor we need to account for this convolution in our simulation. \n",
    "\n",
    "A convolution of the fields shows the amplitude of the beam fall off quickly at ~10cm radius from center.  The phase also remains relatively constant in front of the window. "
   ]
  },
  {
   "cell_type": "code",
   "execution_count": null,
   "metadata": {
    "tags": []
   },
   "outputs": [],
   "source": [
    "# Define the complex beam from ray-trace outputs\n",
    "noise = 1e-6  # signal-to-noise of holography setup\n",
    "a_sim /= np.max(abs(a_sim))\n",
    "a_sim = a_sim + noise\n",
    "beam_sim = (a_sim / np.max(a_sim)) * np.exp(complex(0, 1) * p_sim)\n",
    "\n",
    "# Define the dimmensions of the waveguide\n",
    "apert1 = 1  # [cm]\n",
    "apert2 = 1  # [cm]\n",
    "\n",
    "# Convolve beam\n",
    "x, y, beam_conv = opt_analyze.beam_convolve(\n",
    "    np.real(x_sim) / 1e1, np.real(y_sim) / 1e1, beam_sim, apert1, apert2, 0\n",
    ")\n",
    "\n",
    "plt.figure(figsize = (12,5))\n",
    "plt.subplot(121)\n",
    "plt.pcolormesh(x, y, 20 * np.log10(abs(beam_sim) / np.max(abs(beam_sim))), vmin=-50,shading = 'auto')\n",
    "plt.colorbar(label = 'dB')\n",
    "plt.axis(\"equal\")\n",
    "plt.title(\"Amplitude [dB]\")\n",
    "plt.xlabel(\"[cm]\")\n",
    "plt.ylabel(\"[cm]\")\n",
    "\n",
    "plt.subplot(122)\n",
    "plt.pcolormesh(x, y, np.arctan2(np.imag(beam_sim),np.real(beam_sim)),shading = 'auto')\n",
    "plt.colorbar(label = 'rad.')\n",
    "plt.axis(\"equal\")\n",
    "plt.title(\"Phase\")\n",
    "plt.xlabel(\"[cm]\")\n",
    "\n",
    "plt.show()"
   ]
  },
  {
   "cell_type": "code",
   "execution_count": null,
   "metadata": {},
   "outputs": [],
   "source": []
  }
 ],
 "metadata": {
  "kernelspec": {
   "display_name": "Python 3",
   "language": "python",
   "name": "python3"
  },
  "language_info": {
   "codemirror_mode": {
    "name": "ipython",
    "version": 3
   },
   "file_extension": ".py",
   "mimetype": "text/x-python",
   "name": "python",
   "nbconvert_exporter": "python",
   "pygments_lexer": "ipython3",
   "version": "3.8.5"
  }
 },
 "nbformat": 4,
 "nbformat_minor": 4
}
