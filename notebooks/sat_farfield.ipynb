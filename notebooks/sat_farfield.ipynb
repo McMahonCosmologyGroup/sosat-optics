{
 "cells": [
  {
   "cell_type": "markdown",
   "metadata": {},
   "source": [
    "# SAT Optics Simulation: Far-Field\n",
    "\n",
    "This notebook models the far-field beam of the Small Aperture Telescope.  We use the near-field beam simulated in the $\\verb|sat_holography|$ notebook and the fourier relationship between near- and far-fields to propagate this beam into the far-field. \n",
    "\n",
    "Grace E. Chesmore\n",
    "March 2022\n",
    "\n",
    "### Read in the near-field beam\n"
   ]
  },
  {
   "cell_type": "code",
   "execution_count": null,
   "metadata": {
    "jupyter": {
     "source_hidden": true
    },
    "tags": []
   },
   "outputs": [],
   "source": [
    "import numpy as np\n",
    "import matplotlib\n",
    "import matplotlib.font_manager as font_manager\n",
    "import matplotlib.pyplot as plt\n",
    "%matplotlib inline\n",
    "# %load_ext blackcellmagic\n",
    "\n",
    "font_manager.fontManager.addfont(\n",
    "    \"/home/chesmore/.local/share/fonts/HelveticaNeueLight.ttf\"\n",
    ")\n",
    "matplotlib.rcParams[\"font.family\"] = \"Helvetica Neue\"\n",
    "matplotlib.rcParams[\"font.size\"] = 16\n",
    "matplotlib.rcParams.update({\"axes.grid\" : False, \"grid.color\": \"grey\", \"grid.alpha\": .2, 'xtick.direction':'in','ytick.direction':'in'})\n",
    "%config InlineBackend.figure_format = 'retina'\n",
    "\n",
    "import imp\n",
    "ot_geo = imp.load_source('ot_geo', '/home/chesmore/Desktop/Code/SO SAT OT/sosat-optics/sosat_optics/ot_geo.py')\n",
    "ray_trace = imp.load_source('ray_trace', '/home/chesmore/Desktop/Code/SO SAT OT/sosat-optics/sosat_optics/ray_trace.py')\n",
    "opt_analyze = imp.load_source('opt_analyze', '/home/chesmore/Desktop/Code/SO SAT OT/sosat-optics/sosat_optics/opt_analyze.py')\n",
    "\n",
    "\n",
    "tele_geo = ot_geo.LatGeo()\n",
    "tele_geo.n_scan = 250\n",
    "tele_geo.y_source = ot_geo.y_lyot + 300\n",
    "\n",
    "output_rx = ray_trace.rx_to_lyot([0, 0, 0], tele_geo, 0, \"b\")\n",
    "\n",
    "len_sim = int(np.sqrt(len(output_rx[0])))\n",
    "x_sim = np.reshape(output_rx[0], (len_sim, len_sim))  # [mm]\n",
    "y_sim = np.reshape(output_rx[2], (len_sim, len_sim))  # [mm]\n",
    "\n",
    "indx_x = np.where((np.isnan(x_sim)==False) & (abs(x_sim)<=250))\n",
    "indx_y = np.where((np.isnan(y_sim)==False) & (abs(y_sim)<=250))\n",
    "\n",
    "x_sim_new = np.linspace(np.min(x_sim[indx_x]),np.max(x_sim[indx_x]),len_sim)\n",
    "y_sim_new = np.linspace(np.min(y_sim[indx_y]),np.max(y_sim[indx_y]),len_sim)\n",
    "x_sim,y_sim = np.meshgrid(x_sim_new,y_sim_new)\n",
    "\n",
    "a_sim = np.reshape(output_rx[4], (len_sim, len_sim))\n",
    "p_sim = np.reshape(output_rx[3], (len_sim, len_sim))\n",
    "p_sim = np.mod(tele_geo.k * (p_sim - np.mean(p_sim)) / 1e3, 2 * np.pi)\n",
    "\n",
    "# Define the complex beam from ray-trace outputs\n",
    "noise = 1e-5 # signal-to-noise of holography setup\n",
    "a_sim /= np.max(abs(a_sim))\n",
    "\n",
    "beam_sim = a_sim * np.exp(np.complex(0, 1) * p_sim)\n",
    "\n",
    "# Define the dimmensions of the waveguide\n",
    "apert1 = 180 # [mm]\n",
    "apert2 = 190 # [mm]\n",
    "\n",
    "# Convolve beam\n",
    "x, y, beam_final = opt_analyze.beam_convolve(\n",
    "    np.real(x_sim), np.real(y_sim), beam_sim, apert1, apert2\n",
    ")"
   ]
  },
  {
   "cell_type": "code",
   "execution_count": null,
   "metadata": {
    "jupyter": {
     "source_hidden": true
    },
    "tags": []
   },
   "outputs": [],
   "source": [
    "phase = np.arctan2(np.imag(beam_final),np.real(beam_final))\n",
    "beam_fft,phase_fft = opt_analyze.b2a(abs(beam_final), phase)\n",
    "freq = 150\n",
    "x_ang,y_ang = opt_analyze.coords_spat_to_ang(x/1e3, y/1e3, freq)"
   ]
  },
  {
   "cell_type": "code",
   "execution_count": null,
   "metadata": {
    "jupyter": {
     "source_hidden": true
    },
    "tags": []
   },
   "outputs": [],
   "source": [
    "plt.figure(figsize = (6,5))\n",
    "plt.title(\"SAT Far-field 150GHz\")\n",
    "plt.pcolormesh(x_ang*180*60/np.pi,y_ang*180*60/np.pi,20*np.log10(abs(beam_fft)/np.max(abs(beam_fft))),vmin = -60,shading = 'nearest')\n",
    "plt.xlabel(\"[arcmin]\")\n",
    "plt.ylabel(\"[arcmin]\")\n",
    "plt.colorbar(label = \"dB\")\n",
    "plt.axis(\"equal\")\n",
    "plt.xlim(-100,100)\n",
    "plt.ylim(-100,100)\n",
    "plt.show()"
   ]
  },
  {
   "cell_type": "code",
   "execution_count": 36,
   "metadata": {},
   "outputs": [
    {
     "name": "stdout",
     "output_type": "stream",
     "text": [
      "9.98583585799435\n"
     ]
    }
   ],
   "source": [
    "# expected beam size at 150GHz (lambda = .001m)\n",
    "print((1.22*.001 / .42)*180*60/np.pi)"
   ]
  },
  {
   "cell_type": "code",
   "execution_count": null,
   "metadata": {},
   "outputs": [],
   "source": []
  }
 ],
 "metadata": {
  "kernelspec": {
   "display_name": "Python 3",
   "language": "python",
   "name": "python3"
  },
  "language_info": {
   "codemirror_mode": {
    "name": "ipython",
    "version": 3
   },
   "file_extension": ".py",
   "mimetype": "text/x-python",
   "name": "python",
   "nbconvert_exporter": "python",
   "pygments_lexer": "ipython3",
   "version": "3.8.5"
  }
 },
 "nbformat": 4,
 "nbformat_minor": 4
}
