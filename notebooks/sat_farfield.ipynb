{
 "cells": [
  {
   "cell_type": "markdown",
   "metadata": {},
   "source": [
    "# SAT Optics Simulation: Far-Field\n",
    "\n",
    "This notebook models the far-field beam of the Small Aperture Telescope.  We use the near-field beam simulated in the $\\verb|sat_holography|$ notebook and the fourier relationship between near- and far-fields to propagate this beam into the far-field. \n",
    "\n",
    "Grace E. Chesmore\n",
    "March 2022\n",
    "\n",
    "### Read in the near-field beam\n"
   ]
  },
  {
   "cell_type": "code",
   "execution_count": null,
   "metadata": {
    "jupyter": {
     "source_hidden": true
    },
    "tags": []
   },
   "outputs": [
    {
     "name": "stderr",
     "output_type": "stream",
     "text": [
      "/home/chesmore/Desktop/Code/sosat-optics/sosat_optics/ot_geo.py:108: RuntimeWarning: divide by zero encountered in double_scalars\n",
      "  coeff_3 = (c ** 3 * (k + 1) * r ** 2) / (\n",
      "/home/chesmore/Desktop/Code/sosat-optics/sosat_optics/ray_trace.py:874: RuntimeWarning: invalid value encountered in true_divide\n",
      "  N_hat = norm_temp / np.sqrt(sum(norm_temp ** 2))\n"
     ]
    }
   ],
   "source": [
    "import numpy as np\n",
    "import matplotlib\n",
    "import matplotlib.font_manager as font_manager\n",
    "import matplotlib.pyplot as plt\n",
    "%matplotlib inline\n",
    "from scipy import interpolate\n",
    "\n",
    "# %load_ext blackcellmagic\n",
    "\n",
    "font_manager.fontManager.addfont(\n",
    "    \"/home/chesmore/.local/share/fonts/HelveticaNeueLight.ttf\"\n",
    ")\n",
    "matplotlib.rcParams[\"font.family\"] = \"Helvetica Neue\"\n",
    "matplotlib.rcParams[\"font.size\"] = 16\n",
    "matplotlib.rcParams.update({\"axes.grid\" : False, \"grid.color\": \"grey\", \"grid.alpha\": .2, 'xtick.direction':'in','ytick.direction':'in'})\n",
    "%config InlineBackend.figure_format = 'retina'\n",
    "\n",
    "import imp\n",
    "ot_geo = imp.load_source('ot_geo', '/home/chesmore/Desktop/Code/sosat-optics/sosat_optics/ot_geo.py')\n",
    "ray_trace = imp.load_source('ray_trace', '/home/chesmore/Desktop/Code/sosat-optics/sosat_optics/ray_trace.py')\n",
    "opt_analyze = imp.load_source('opt_analyze', '/home/chesmore/Desktop/Code/sosat-optics/sosat_optics/opt_analyze.py')\n",
    "\n",
    "tele_geo = ot_geo.SatGeo()\n",
    "tele_geo.n_scan = 150\n",
    "tele_geo.y_source = ot_geo.y_lyot + 40\n",
    "tele_geo.lambda_ = .002\n",
    "tele_geo.kappa = 2 * np.pi / tele_geo.lambda_\n",
    "\n",
    "output_rx = ray_trace.rx_to_lyot([0, 0, 0], tele_geo, 0, \"b\")\n",
    "\n",
    "len_sim = int(np.sqrt(len(output_rx[0])))\n",
    "x_sim = np.reshape(output_rx[0], (len_sim, len_sim))  # [mm]\n",
    "y_sim = np.reshape(output_rx[2], (len_sim, len_sim))  # [mm]\n",
    "\n",
    "indx_x = np.where((np.isnan(x_sim)==False) & (abs(x_sim)<=250))\n",
    "indx_y = np.where((np.isnan(y_sim)==False) & (abs(y_sim)<=250))\n",
    "\n",
    "x_sim_new = np.linspace(np.min(x_sim[indx_x]),np.max(x_sim[indx_x]),len_sim)\n",
    "y_sim_new = np.linspace(np.min(y_sim[indx_y]),np.max(y_sim[indx_y]),len_sim)\n",
    "x_sim,y_sim = np.meshgrid(x_sim_new,y_sim_new)\n",
    "\n",
    "a_sim = np.reshape(output_rx[4], (len_sim, len_sim))\n",
    "p_sim = np.reshape(output_rx[3], (len_sim, len_sim))\n",
    "p_sim = np.mod(tele_geo.k * (p_sim - np.mean(p_sim)) / 1e3, 2 * np.pi)"
   ]
  },
  {
   "cell_type": "code",
   "execution_count": null,
   "metadata": {
    "jupyter": {
     "source_hidden": true
    },
    "tags": []
   },
   "outputs": [],
   "source": [
    "# Define the complex beam from ray-trace outputs\n",
    "noise = 1e-6 # signal-to-noise of holography setup\n",
    "a_sim /= np.max(abs(a_sim))\n",
    "a_sim += noise\n",
    "beam_sim = a_sim * np.exp(complex(0, 1) * p_sim)\n",
    "\n",
    "# Define the dimmensions of the waveguide\n",
    "apert1 = 2.5 # [cm]\n",
    "apert2 = 2.5 # [cm]\n",
    "\n",
    "x = np.real(x_sim)/1e1\n",
    "y = np.real(y_sim)/1e1\n",
    "beam_final = beam_sim\n",
    "# Convolve beam\n",
    "x, y, beam_final = opt_analyze.beam_convolve(\n",
    "    np.real(x_sim)/1e1, np.real(y_sim)/1e1, beam_sim, apert1, apert2,0\n",
    ")"
   ]
  },
  {
   "cell_type": "markdown",
   "metadata": {},
   "source": [
    "## Zero padding "
   ]
  },
  {
   "cell_type": "code",
   "execution_count": null,
   "metadata": {
    "jupyter": {
     "source_hidden": true
    },
    "tags": []
   },
   "outputs": [],
   "source": [
    "x_int = abs(x[0,0]-x[0,1])\n",
    "y_int = abs(y[0,0]-y[1,0])"
   ]
  },
  {
   "cell_type": "code",
   "execution_count": null,
   "metadata": {
    "jupyter": {
     "source_hidden": true
    },
    "tags": []
   },
   "outputs": [],
   "source": [
    "# x_int = abs(x_new[0,0]-x_new[0,1])\n",
    "# y_int = abs(y_new[0,0]-y_new[1,0])\n",
    "beam_final = np.pad(beam_final, 500, mode='constant')\n",
    "x_new = np.array(np.arange(len(beam_final)))\n",
    "y_new = np.array(np.arange(len(beam_final)))\n",
    "x_new = x_new - np.mean(x_new)\n",
    "y_new = y_new - np.mean(y_new)\n",
    "x_new = x_new * x_int\n",
    "y_new = y_new * y_int\n",
    "\n",
    "x_new,y_new = np.meshgrid(x_new,y_new)"
   ]
  },
  {
   "cell_type": "code",
   "execution_count": null,
   "metadata": {
    "jupyter": {
     "source_hidden": true
    },
    "tags": []
   },
   "outputs": [],
   "source": [
    "phase = np.arctan2(np.imag(beam_final),np.real(beam_final))*0\n",
    "beam_fft,phase_fft = opt_analyze.a2b(beam_final, phase)\n",
    "\n",
    "x_ang,y_ang = opt_analyze.coords_spat_to_ang(x_new/1e2, y_new/1e2,opt_analyze.m_to_ghz(tele_geo.lambda_))\n",
    "\n",
    "plt.figure(figsize = (6,5))\n",
    "plt.title(\"SAT Far-field 150GHz\")\n",
    "plt.pcolormesh(x_ang*180*60/np.pi,y_ang*180*60/np.pi,20*np.log10(abs(beam_fft)/np.max(abs(beam_fft))),vmin = -60,shading = 'auto')\n",
    "plt.xlabel(\"[arcmin]\")\n",
    "plt.ylabel(\"[arcmin]\")\n",
    "plt.colorbar(label = \"dB\")\n",
    "plt.axis(\"equal\")\n",
    "plt.xlim(-80,80)\n",
    "plt.ylim(-80,80)\n",
    "plt.show()"
   ]
  },
  {
   "cell_type": "code",
   "execution_count": null,
   "metadata": {
    "jupyter": {
     "source_hidden": true
    },
    "tags": []
   },
   "outputs": [],
   "source": [
    "a = abs(beam_fft)**2 /np.max(abs(beam_fft)**2)\n",
    "x_out = y_ang\n",
    "y_out = x_ang\n",
    "\n",
    "indx = np.where(abs(a)==np.max(abs(a)))\n",
    "x = y_out[indx[0][0],:]*60*180/np.pi\n",
    "y = ((abs(a)[indx[0][0],:]/np.max(abs(a))))\n",
    "v1 = (x[np.where((y>.5))][0])\n",
    "v2 = (x[np.where((y>.5))][-1])\n",
    "\n",
    "fwhm1 = (abs(v1-v2))\n",
    "\n",
    "indx = np.where(abs(a)==np.max(abs(a)))\n",
    "x = x_out[:,indx[1][0]]*60*180/np.pi\n",
    "y = ((abs(a)[:,indx[1][0]]/np.max(abs(a))))\n",
    "v1 = (x[np.where((y>.5))][0])\n",
    "v2 = (x[np.where((y>.5))][-1])\n",
    "\n",
    "fwhm2 = (abs(v1-v2))\n",
    "\n",
    "print( (fwhm1 + fwhm2) /2)"
   ]
  },
  {
   "cell_type": "code",
   "execution_count": 9,
   "metadata": {
    "jupyter": {
     "source_hidden": true
    },
    "tags": []
   },
   "outputs": [
    {
     "name": "stdout",
     "output_type": "stream",
     "text": [
      "16.779478285974108\n"
     ]
    }
   ],
   "source": [
    "D = tele_geo.diam\n",
    "lambda_m = tele_geo.lambda_\n",
    "print(opt_analyze.rad_to_arcmin((1.025*lambda_m /D)))"
   ]
  },
  {
   "cell_type": "code",
   "execution_count": null,
   "metadata": {},
   "outputs": [],
   "source": []
  }
 ],
 "metadata": {
  "kernelspec": {
   "display_name": "Python 3",
   "language": "python",
   "name": "python3"
  },
  "language_info": {
   "codemirror_mode": {
    "name": "ipython",
    "version": 3
   },
   "file_extension": ".py",
   "mimetype": "text/x-python",
   "name": "python",
   "nbconvert_exporter": "python",
   "pygments_lexer": "ipython3",
   "version": "3.8.5"
  }
 },
 "nbformat": 4,
 "nbformat_minor": 4
}
