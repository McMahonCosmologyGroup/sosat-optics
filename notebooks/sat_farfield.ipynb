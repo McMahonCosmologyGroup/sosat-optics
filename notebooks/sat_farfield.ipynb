{
 "cells": [
  {
   "cell_type": "markdown",
   "metadata": {},
   "source": [
    "# SAT Optics Simulation: Far-Field\n",
    "\n",
    "This notebook models the far-field beam of the Small Aperture Telescope.  We use the near-field beam simulated in the $\\verb|sat_holography|$ notebook and the fourier relationship between near- and far-fields to propagate this beam into the far-field. \n",
    "\n",
    "Grace E. Chesmore\n",
    "March 2022\n",
    "\n",
    "### Read in the near-field beam\n"
   ]
  },
  {
   "cell_type": "code",
   "execution_count": null,
   "metadata": {},
   "outputs": [],
   "source": []
  }
 ],
 "metadata": {
  "kernelspec": {
   "display_name": "Python 3",
   "language": "python",
   "name": "python3"
  },
  "language_info": {
   "codemirror_mode": {
    "name": "ipython",
    "version": 3
   },
   "file_extension": ".py",
   "mimetype": "text/x-python",
   "name": "python",
   "nbconvert_exporter": "python",
   "pygments_lexer": "ipython3",
   "version": "3.8.5"
  }
 },
 "nbformat": 4,
 "nbformat_minor": 4
}
